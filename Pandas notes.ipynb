{
 "cells": [
  {
   "cell_type": "code",
   "execution_count": 25,
   "metadata": {
    "collapsed": true
   },
   "outputs": [],
   "source": [
    "import pandas as pd\n",
    "import numpy as np"
   ]
  },
  {
   "cell_type": "markdown",
   "metadata": {},
   "source": [
    "# Dataframe, Dictionary, list之间的转换"
   ]
  },
  {
   "cell_type": "markdown",
   "metadata": {},
   "source": [
    "## 字典转dataframe\n",
    "\n",
    "\n"
   ]
  },
  {
   "cell_type": "code",
   "execution_count": 26,
   "metadata": {},
   "outputs": [
    {
     "ename": "NameError",
     "evalue": "name 'dic' is not defined",
     "output_type": "error",
     "traceback": [
      "\u001b[0;31m---------------------------------------------------------------------------\u001b[0m",
      "\u001b[0;31mNameError\u001b[0m                                 Traceback (most recent call last)",
      "\u001b[0;32m<ipython-input-26-237f6be134a0>\u001b[0m in \u001b[0;36m<module>\u001b[0;34m()\u001b[0m\n\u001b[0;32m----> 1\u001b[0;31m \u001b[0mdf\u001b[0m \u001b[0;34m=\u001b[0m \u001b[0mpd\u001b[0m\u001b[0;34m.\u001b[0m\u001b[0mDataFrame\u001b[0m\u001b[0;34m(\u001b[0m\u001b[0;34m[\u001b[0m\u001b[0mdic\u001b[0m\u001b[0;34m]\u001b[0m\u001b[0;34m)\u001b[0m \u001b[0;31m#注意有中括号\u001b[0m\u001b[0;34m\u001b[0m\u001b[0;34m\u001b[0m\u001b[0m\n\u001b[0m",
      "\u001b[0;31mNameError\u001b[0m: name 'dic' is not defined"
     ]
    }
   ],
   "source": [
    "df = pd.DataFrame([dic]) #注意有中括号"
   ]
  },
  {
   "cell_type": "markdown",
   "metadata": {},
   "source": [
    "## Dataframe转csv\n"
   ]
  },
  {
   "cell_type": "code",
   "execution_count": null,
   "metadata": {
    "collapsed": true
   },
   "outputs": [],
   "source": [
    "df.to_csv('')"
   ]
  },
  {
   "cell_type": "markdown",
   "metadata": {},
   "source": [
    "## list转Dataframe\n",
    "\n",
    "#### Python中将列表转换成为数据框有两种情况： \n",
    "#### 第一种：两个不同列表转换成为数据框"
   ]
  },
  {
   "cell_type": "code",
   "execution_count": null,
   "metadata": {
    "collapsed": true
   },
   "outputs": [],
   "source": [
    "a=[1,2,3,4]\n",
    "b=[5,6,7,8]\n",
    "c={\"a\" : a,\n",
    "   \"b\" : b}  #将列表a，b转换成字典\n",
    "data=pd.DataFrame(c) #将字典转换成为数据框\n",
    "print(data)"
   ]
  },
  {
   "cell_type": "markdown",
   "metadata": {},
   "source": [
    "#### 第二种：将包含不同子列表的列表转换为数据框"
   ]
  },
  {
   "cell_type": "code",
   "execution_count": null,
   "metadata": {
    "collapsed": true
   },
   "outputs": [],
   "source": [
    "a=[[1,2,3,4],[5,6,7,8]]  #包含两个不同的子列表[1,2,3,4]和[5,6,7,8]\n",
    "data=pd.DataFrame(a)    #这时候是以行为标准写入的\n",
    "print(data)  "
   ]
  },
  {
   "cell_type": "markdown",
   "metadata": {},
   "source": [
    "**注意上面的dataframe的排列方式,要想纵向排列，转置一下即可**  \n",
    "转置之后得到想要的结果"
   ]
  },
  {
   "cell_type": "code",
   "execution_count": null,
   "metadata": {
    "collapsed": true
   },
   "outputs": [],
   "source": [
    "data=data.T#转置之后得到想要的结果\n",
    "data.rename(columns={0:'a',1:'b'},inplace=True)  #注意这里0和1都不是字符串\n",
    "print(data)"
   ]
  },
  {
   "cell_type": "markdown",
   "metadata": {},
   "source": [
    "## DataFrame转为list\n"
   ]
  },
  {
   "cell_type": "code",
   "execution_count": null,
   "metadata": {
    "collapsed": true
   },
   "outputs": [],
   "source": [
    "df.values.tolist()\n",
    "np.array(df).tolist() # 先转换成ndarray"
   ]
  },
  {
   "cell_type": "markdown",
   "metadata": {},
   "source": []
  },
  {
   "cell_type": "code",
   "execution_count": null,
   "metadata": {
    "collapsed": true
   },
   "outputs": [],
   "source": [
    "data = pd.DataFrame(np.arange(16).reshape(4,4),index=list('abcd'),columns=list('wxyz'))\n",
    "data"
   ]
  },
  {
   "cell_type": "markdown",
   "metadata": {},
   "source": [
    "#### 取一列"
   ]
  },
  {
   "cell_type": "code",
   "execution_count": null,
   "metadata": {
    "collapsed": true
   },
   "outputs": [],
   "source": [
    "data['w']  #选择表格中的'w'列，使用类字典属性,返回的是Series类型"
   ]
  },
  {
   "cell_type": "code",
   "execution_count": null,
   "metadata": {
    "collapsed": true
   },
   "outputs": [],
   "source": [
    "data.w    #选择表格中的'w'列，使用点属性,返回的是Series类型"
   ]
  },
  {
   "cell_type": "code",
   "execution_count": null,
   "metadata": {
    "collapsed": true,
    "scrolled": true
   },
   "outputs": [],
   "source": [
    "data[['w']]  #选择表格中的'w'列，返回的是DataFrame类型"
   ]
  },
  {
   "cell_type": "markdown",
   "metadata": {},
   "source": [
    "#### 如果列名没有定义/不知道列名"
   ]
  },
  {
   "cell_type": "code",
   "execution_count": null,
   "metadata": {
    "collapsed": true
   },
   "outputs": [],
   "source": [
    "data.iloc[:,0]"
   ]
  },
  {
   "cell_type": "markdown",
   "metadata": {},
   "source": [
    "#### 取两列"
   ]
  },
  {
   "cell_type": "code",
   "execution_count": null,
   "metadata": {
    "collapsed": true
   },
   "outputs": [],
   "source": [
    "data[['w','z']]  #选择表格中的'w'、'z'列"
   ]
  },
  {
   "cell_type": "markdown",
   "metadata": {},
   "source": [
    " ####  取一行"
   ]
  },
  {
   "cell_type": "code",
   "execution_count": null,
   "metadata": {
    "collapsed": true
   },
   "outputs": [],
   "source": [
    "data[1:2]   #返回第2行，从0计，返回的是单行，通过有前后值的索引形式，\n",
    "            #如果采用data[1]则报错"
   ]
  },
  {
   "cell_type": "code",
   "execution_count": null,
   "metadata": {
    "collapsed": true
   },
   "outputs": [],
   "source": [
    "data.iloc[1] #返回第2行，返回的是series，"
   ]
  },
  {
   "cell_type": "markdown",
   "metadata": {},
   "source": [
    "#### 取两行"
   ]
  },
  {
   "cell_type": "code",
   "execution_count": null,
   "metadata": {
    "collapsed": true
   },
   "outputs": [],
   "source": [
    "data[0:2]"
   ]
  },
  {
   "cell_type": "code",
   "execution_count": null,
   "metadata": {
    "collapsed": true
   },
   "outputs": [],
   "source": [
    "data['a':'b']  #利用index值进行切片，返回的是**前闭后闭**的DataFrame, \n",
    "               #即末端是包含的"
   ]
  },
  {
   "cell_type": "code",
   "execution_count": null,
   "metadata": {
    "collapsed": true
   },
   "outputs": [],
   "source": [
    "data.loc['a',['w','x']]   #返回‘a’行'w'、'x'列，这种用于选取行索引列索引已知"
   ]
  },
  {
   "cell_type": "markdown",
   "metadata": {},
   "source": [
    "### 选取特定列的值所在的多行"
   ]
  },
  {
   "cell_type": "markdown",
   "metadata": {},
   "source": [
    "![avatar](https://img-blog.csdn.net/20180516092837684?watermark/2/text/aHR0cHM6Ly9ibG9nLmNzZG4ubmV0L2h0YmVrZXI=/font/5a6L5L2T/fontsize/400/fill/I0JBQkFCMA==/dissolve/70)\n",
    "![avatar](https://img-blog.csdn.net/20180516092847382?watermark/2/text/aHR0cHM6Ly9ibG9nLmNzZG4ubmV0L2h0YmVrZXI=/font/5a6L5L2T/fontsize/400/fill/I0JBQkFCMA==/dissolve/70)\n",
    "![avatar](https://img-blog.csdn.net/20180516092857828?watermark/2/text/aHR0cHM6Ly9ibG9nLmNzZG4ubmV0L2h0YmVrZXI=/font/5a6L5L2T/fontsize/400/fill/I0JBQkFCMA==/dissolve/70)"
   ]
  },
  {
   "cell_type": "markdown",
   "metadata": {},
   "source": [
    "### loc,iloc的区别"
   ]
  },
  {
   "cell_type": "markdown",
   "metadata": {},
   "source": [
    "loc：通过选取行（列）标签索引数据  \n",
    "iloc：通过选取行（列）位置编号索引数据   \n",
    "ix：既可以通过行（列）标签索引数据，也可以通过行（列）位置编号索引数据  \n",
    "**为了避免用户在使用这三种方法时产生混淆，从pandas 0.20.0版本开始，官方不推荐使用.ix方法，而是使用.iloc 和.loc方法**"
   ]
  },
  {
   "cell_type": "markdown",
   "metadata": {
    "collapsed": true
   },
   "source": [
    "### 命名dataframe的列"
   ]
  },
  {
   "cell_type": "code",
   "execution_count": null,
   "metadata": {
    "collapsed": true
   },
   "outputs": [],
   "source": [
    "df.columns = ['a','b']\n",
    "df"
   ]
  },
  {
   "cell_type": "code",
   "execution_count": null,
   "metadata": {
    "collapsed": true
   },
   "outputs": [],
   "source": [
    "#重命名\n",
    "df.rename(columns = {'a':'A'},inplace = True)\n",
    "df"
   ]
  },
  {
   "cell_type": "code",
   "execution_count": null,
   "metadata": {
    "collapsed": true
   },
   "outputs": [],
   "source": [
    "# 创建一个空的数据集带列名\n",
    "df = pd.DataFrame(columns = ['S', 'F'])\n",
    "df"
   ]
  },
  {
   "cell_type": "markdown",
   "metadata": {},
   "source": [
    "## list合并\n",
    "[python 中列表（list）合并、数组（array）合并](https://blog.csdn.net/daoxiaxingcai46/article/details/78269910)"
   ]
  },
  {
   "cell_type": "code",
   "execution_count": null,
   "metadata": {
    "collapsed": true
   },
   "outputs": [],
   "source": [
    "a = [[1,2,3],[4,5,6]]\n",
    "b = [[1,1,1],[2,2,2]]"
   ]
  },
  {
   "cell_type": "code",
   "execution_count": null,
   "metadata": {},
   "outputs": [],
   "source": [
    "c = a + b\n",
    "a.extend(b) # 这两种合并的方法结果都是一样的"
   ]
  },
  {
   "cell_type": "code",
   "execution_count": null,
   "metadata": {},
   "outputs": [],
   "source": [
    "\n",
    "a"
   ]
  },
  {
   "cell_type": "markdown",
   "metadata": {
    "collapsed": true
   },
   "source": [
    "# 删除/ 过滤某个范围的值"
   ]
  },
  {
   "cell_type": "code",
   "execution_count": null,
   "metadata": {
    "collapsed": true
   },
   "outputs": [],
   "source": [
    "data = {\n",
    "       '证券名称' : ['格力电器','视觉中国','成都银行','中国联通','格力电器','视觉中国','成都银行','中国联通'],\n",
    "       '摘要': ['证券买入','证券买入','证券买入','证券买入','证券卖出','证券卖出','证券卖出','证券卖出'],\n",
    "       '成交数量' : [500,1000,1500,2000,500,500,1000,1500],\n",
    "       '成交金额' : [-5000,-10000,-15000,-20000,5500,5500,11000,15000]\n",
    "    }\n",
    "    \n",
    "df = pd.DataFrame(data,index = ['2018-2-1','2018-2-1','2018-2-1','2018-2-1','2018-2-2','2018-2-2',\n",
    "                                   '2018-2-2','2018-2-3'])\n",
    "df"
   ]
  },
  {
   "cell_type": "markdown",
   "metadata": {
    "collapsed": true
   },
   "source": [
    "### 删除具体列"
   ]
  },
  {
   "cell_type": "code",
   "execution_count": null,
   "metadata": {
    "collapsed": true
   },
   "outputs": [],
   "source": [
    "df.drop('成交数量',axis=1)"
   ]
  },
  {
   "cell_type": "markdown",
   "metadata": {},
   "source": [
    "### 删除具体行"
   ]
  },
  {
   "cell_type": "code",
   "execution_count": null,
   "metadata": {
    "collapsed": true,
    "scrolled": true
   },
   "outputs": [],
   "source": [
    "df.drop('2018-2-3')"
   ]
  },
  {
   "cell_type": "markdown",
   "metadata": {
    "collapsed": true
   },
   "source": [
    "### 删除特定数值的行（删除成交金额小于10000)"
   ]
  },
  {
   "cell_type": "code",
   "execution_count": null,
   "metadata": {
    "collapsed": true
   },
   "outputs": [],
   "source": [
    "df[ df['成交金额'] > 10000]"
   ]
  },
  {
   "cell_type": "code",
   "execution_count": null,
   "metadata": {
    "collapsed": true
   },
   "outputs": [],
   "source": [
    "df[df['成交金额'].isin([11000])]"
   ]
  },
  {
   "cell_type": "code",
   "execution_count": null,
   "metadata": {
    "collapsed": true
   },
   "outputs": [],
   "source": [
    "#有时候我们需要去掉不止一个值，这个时候只需要在isin([]）的列表中添加\n",
    "df[(True^df['成交金额'].isin([5500,15000]))]"
   ]
  },
  {
   "cell_type": "markdown",
   "metadata": {
    "collapsed": true
   },
   "source": [
    "### 删除某列包含特殊字符的行"
   ]
  },
  {
   "cell_type": "code",
   "execution_count": null,
   "metadata": {
    "collapsed": true
   },
   "outputs": [],
   "source": [
    "df[ ~ df['证券名称'].str.contains('联通') ] # ～是取反的意思, 如果要包含的话就不要这个取反的符号"
   ]
  },
  {
   "cell_type": "markdown",
   "metadata": {
    "collapsed": true
   },
   "source": [
    "### 判断df为空"
   ]
  },
  {
   "cell_type": "code",
   "execution_count": null,
   "metadata": {
    "collapsed": true
   },
   "outputs": [],
   "source": [
    "df.empty"
   ]
  },
  {
   "cell_type": "markdown",
   "metadata": {
    "collapsed": true
   },
   "source": [
    "### 判断list为空"
   ]
  },
  {
   "cell_type": "code",
   "execution_count": null,
   "metadata": {
    "collapsed": true
   },
   "outputs": [],
   "source": [
    "len(a) == 0"
   ]
  },
  {
   "cell_type": "markdown",
   "metadata": {
    "collapsed": true
   },
   "source": [
    "# 缺失值与空值的处理"
   ]
  },
  {
   "cell_type": "code",
   "execution_count": null,
   "metadata": {
    "collapsed": true
   },
   "outputs": [],
   "source": [
    "index = ['0', '1', '2', '3', '4', '5']\n",
    "columns = ['A', 'B', 'C']\n",
    "df = pd.DataFrame(np.random.randn(6,3), index= index, columns = columns)\n",
    "df.iloc[1:2,2] = np.nan\n",
    "df.iloc[3,0:2] = np.nan\n",
    "df.iloc[4,1] = np.nan\n",
    "df.iloc[5,:] = np.nan\n",
    "df"
   ]
  },
  {
   "cell_type": "markdown",
   "metadata": {
    "collapsed": true
   },
   "source": [
    "### 查看缺失值的情况"
   ]
  },
  {
   "cell_type": "code",
   "execution_count": null,
   "metadata": {
    "collapsed": true
   },
   "outputs": [],
   "source": [
    "df.isnull() #返回的是True和False\n",
    "df.isnull().any() #看每列是否有缺失值\n",
    "df.isnull().any(1) #看每行是否有缺失值"
   ]
  },
  {
   "cell_type": "markdown",
   "metadata": {},
   "source": [
    "### 缺失数据删除"
   ]
  },
  {
   "cell_type": "markdown",
   "metadata": {},
   "source": [
    "DataFrame.dropna(axis=0, how='any', thresh=None, subset=None, inplace=False)\n",
    "函数作用：删除含有空值的行或列  \n",
    "\n",
    "axis:维度，axis=0表示index行,axis=1表示columns列，默认为0  \n",
    "\n",
    "how:\"all\"表示这一行或列中的元素全部缺失（为nan）才删除这一行或列，\"any\"表示这一行或列中只要有元素缺失，就删除这一行或列  \n",
    "\n",
    "thresh: 行非缺失值至少为thresh个。  \n",
    "\n",
    "subset：在某些列的子集中选择出现了缺失值的列删除，不在子集中的含有缺失值得列或行不会删除（有axis决定是行还是列）  \n",
    "\n",
    "inplace：刷选过缺失值得新数据是存为副本还是直接在原数据上进行修改。  "
   ]
  },
  {
   "cell_type": "code",
   "execution_count": null,
   "metadata": {
    "collapsed": true
   },
   "outputs": [],
   "source": [
    "df.dropna(how = 'all') #删除全为缺失值的行或列\n",
    "df.dropna(how = 'any') #删除只要有缺失值的行或列"
   ]
  },
  {
   "cell_type": "code",
   "execution_count": null,
   "metadata": {
    "collapsed": true
   },
   "outputs": [],
   "source": [
    "df.dropna(thresh = 3)"
   ]
  },
  {
   "cell_type": "code",
   "execution_count": null,
   "metadata": {
    "collapsed": true,
    "scrolled": true
   },
   "outputs": [],
   "source": [
    "df.dropna(subset = [0]) #过滤第一列为缺失值的情况\n",
    "df.dropna(subset = [0，2])"
   ]
  },
  {
   "cell_type": "markdown",
   "metadata": {},
   "source": [
    "### 填充缺失数据"
   ]
  },
  {
   "cell_type": "markdown",
   "metadata": {},
   "source": [
    "DataFrame.fillna(value=None, method=None, axis=None, inplace=False, limit=None, downcast=None, **kwargs)  \n",
    "\n",
    "\n",
    "\n",
    "value:需要用什么值去填充缺失值  \n",
    "\n",
    "axis:确定填充维度，从行开始或是从列开始  \n",
    "\n",
    "method：ffill:用缺失值前面的一个值代替缺失值，如果axis =1，那么就是横向的前面的值替换后面的缺失值，如果axis=0，那么则是上面的值替换下面的缺失值。backfill/bfill，缺失值后面的一个值代替前面的缺失值。注意这个参数不能与value同时出现  \n",
    "\n",
    "limit:确定填充的个数，如果limit=2，则只填充两个缺失值。  "
   ]
  },
  {
   "cell_type": "markdown",
   "metadata": {},
   "source": [
    "#### 不同的列填充不同常数"
   ]
  },
  {
   "cell_type": "code",
   "execution_count": null,
   "metadata": {
    "collapsed": true
   },
   "outputs": [],
   "source": [
    "df.fillna({1:3,2:5}) #第二列缺失值填充为3,第三列缺失值填充为5"
   ]
  },
  {
   "cell_type": "markdown",
   "metadata": {},
   "source": [
    "#### 向前/向后填充"
   ]
  },
  {
   "cell_type": "code",
   "execution_count": null,
   "metadata": {
    "collapsed": true
   },
   "outputs": [],
   "source": [
    "df.fillna(axis=1,method='ffill') #横向用缺失值前面的值替换缺失值 \n",
    "df.fillna(axis=0,method='ffill') #纵向用缺失值上面的值替换缺失值"
   ]
  },
  {
   "cell_type": "markdown",
   "metadata": {},
   "source": [
    "#### 均值填充"
   ]
  },
  {
   "cell_type": "code",
   "execution_count": null,
   "metadata": {
    "collapsed": true
   },
   "outputs": [],
   "source": [
    "df.fillna(df.mean())"
   ]
  },
  {
   "cell_type": "markdown",
   "metadata": {
    "collapsed": true
   },
   "source": [
    "### 查找缺失值所在的位置"
   ]
  },
  {
   "cell_type": "code",
   "execution_count": null,
   "metadata": {
    "collapsed": true
   },
   "outputs": [],
   "source": [
    "df['A'].count() # A列不为空值的个数\n",
    "len(df) #df的行数\n",
    "df.shape[0] #df的行数\n",
    "df['A'].isnull().values == True #A列哪些位置是空值，返回True/False"
   ]
  },
  {
   "cell_type": "code",
   "execution_count": null,
   "metadata": {
    "collapsed": true,
    "scrolled": true
   },
   "outputs": [],
   "source": [
    "for c in df.columns:\n",
    "    if df[c].count() != len(df):\n",
    "        loc = df[c][df[c].isnull().values == True].index.tolist()\n",
    "        print('缺失值位于',c, '列',loc)"
   ]
  },
  {
   "cell_type": "markdown",
   "metadata": {},
   "source": [
    "#### 利用np.where"
   ]
  },
  {
   "cell_type": "code",
   "execution_count": null,
   "metadata": {
    "collapsed": true,
    "scrolled": true
   },
   "outputs": [],
   "source": [
    "i = df.index[np.where(np.isnan(df))[0]].values # 出现空值的行，每出现一个空值都会显示所在的行\n",
    "c = df.columns[np.where(np.isnan(df))[1]].values # 出现空值的列\n",
    "l = [i,c]\n",
    "location = pd.DataFrame(l)\n",
    "location #每一列代表一个坐标 （1，C）有空值"
   ]
  },
  {
   "cell_type": "markdown",
   "metadata": {},
   "source": [
    "# 重复行的处理"
   ]
  },
  {
   "cell_type": "markdown",
   "metadata": {},
   "source": [
    "### 检测重复值，如果有重复值就去掉重复值"
   ]
  },
  {
   "cell_type": "code",
   "execution_count": null,
   "metadata": {
    "collapsed": true
   },
   "outputs": [],
   "source": [
    "dup = df.duplicated()\n",
    "dup = dup.values.tolist()\n",
    "count = dup.count(True)\n",
    "print(count) # if count >1 , means have duplicated value\n",
    "if count > 1:\n",
    "    df_drop = df.drop_duplicates()"
   ]
  },
  {
   "cell_type": "markdown",
   "metadata": {},
   "source": [
    "# groupby 使用"
   ]
  },
  {
   "cell_type": "markdown",
   "metadata": {},
   "source": [
    "参考资料：  \n",
    "[用Python开始的数据分析——分组groupby（1)](https://zhuanlan.zhihu.com/p/29371291)  \n",
    "[数组聚合和分组运算](https://blog.csdn.net/qq_40587575/article/details/81169502)  \n",
    "[新手向——理解Pandas的Transform](https://www.jianshu.com/p/509d7b97088c)"
   ]
  },
  {
   "cell_type": "markdown",
   "metadata": {},
   "source": [
    "### groupby获得分组里面最大值所在的行\n",
    "#### 先排好序，然后每组取第一个"
   ]
  },
  {
   "cell_type": "code",
   "execution_count": null,
   "metadata": {
    "collapsed": true
   },
   "outputs": [],
   "source": [
    "df = f.sort_values(by = 'strdate', ascending=False).groupby('name', as_index=False).first() #max day"
   ]
  },
  {
   "cell_type": "markdown",
   "metadata": {},
   "source": [
    "### groupby，agg 分组统计"
   ]
  },
  {
   "cell_type": "markdown",
   "metadata": {},
   "source": [
    "agg函数，它提供基于列的聚合操作， 一般与groupby连用  \n",
    "而groupby可以看做是基于行，或者说index的聚合操作"
   ]
  },
  {
   "cell_type": "markdown",
   "metadata": {},
   "source": [
    "分组统计是数据分析中较为复杂的一种操作，但是使用起来非常有用，能避开大量的循环等等。"
   ]
  },
  {
   "cell_type": "code",
   "execution_count": null,
   "metadata": {
    "collapsed": true
   },
   "outputs": [],
   "source": [
    "df = pd.DataFrame({\n",
    "            \"key1\":     [\"a\", \"a\", \"b\", \"b\", \"a\"],\n",
    "            \"key2\":     [\"one\", \"two\", \"one\", \"two\", \"one\"],\n",
    "            \"data1\":    np.random.randn(5),\n",
    "            \"data2\":    np.random.randn(5)\n",
    "        })\n",
    "df"
   ]
  },
  {
   "cell_type": "markdown",
   "metadata": {
    "collapsed": true
   },
   "source": [
    "#### 以某一列为参照物对另一列进行分组统计"
   ]
  },
  {
   "cell_type": "code",
   "execution_count": null,
   "metadata": {
    "collapsed": true,
    "scrolled": false
   },
   "outputs": [],
   "source": [
    "# 依据key1 进行分组， 将data1的数值分为a， b 两组， 再求出平均值,\n",
    "key1 = df['data1'].groupby(df['key1']).mean()\n",
    "\n",
    "# 语法糖为\n",
    "key1 = df.groupby('key1')['data1'].mean()\n",
    "key1"
   ]
  },
  {
   "cell_type": "code",
   "execution_count": null,
   "metadata": {
    "collapsed": true
   },
   "outputs": [],
   "source": [
    "group1 = df.groupby('key1')[['data1']].mean() #双层中括号可以返回一个dataframe\n",
    "group1"
   ]
  },
  {
   "cell_type": "code",
   "execution_count": null,
   "metadata": {
    "collapsed": true
   },
   "outputs": [],
   "source": [
    "amean = (-0.255326+1.556983+1.465029)/3\n",
    "amean # 演示一下表示这个groupby是怎么运行的"
   ]
  },
  {
   "cell_type": "markdown",
   "metadata": {
    "collapsed": true
   },
   "source": [
    "#### 以某几列为参照物对另一列进行分组统计"
   ]
  },
  {
   "cell_type": "code",
   "execution_count": null,
   "metadata": {
    "collapsed": true
   },
   "outputs": [],
   "source": [
    "#一次传入多个数组\n",
    "key12 = df.groupby(['key1','key2'])[['data2']].mean()\n",
    "key12"
   ]
  },
  {
   "cell_type": "code",
   "execution_count": null,
   "metadata": {
    "collapsed": true
   },
   "outputs": [],
   "source": [
    "#通过两个键对数据进行分组， 得到对的series 具有一个层次化索引，（由唯一的键值对组成）\n",
    "un = key12.unstack()\n",
    "un"
   ]
  },
  {
   "cell_type": "markdown",
   "metadata": {
    "collapsed": true
   },
   "source": [
    "#### 以任意数组为分组键对另一列进行分组统计"
   ]
  },
  {
   "cell_type": "code",
   "execution_count": null,
   "metadata": {
    "collapsed": true
   },
   "outputs": [],
   "source": [
    "# 以任意数组为分组键\n",
    "states = np.array(['ohio','California','ohio','ohio','California'])\n",
    "years = np.array([2005,2004,2004,2004,2005])\n",
    "key = df['data1'].groupby([states, years]).count()\n",
    "key"
   ]
  },
  {
   "cell_type": "markdown",
   "metadata": {},
   "source": [
    "#### 对分组进行迭代\n",
    "groupby 对象支持迭代， 可以产生一组二元元组"
   ]
  },
  {
   "cell_type": "code",
   "execution_count": null,
   "metadata": {
    "collapsed": true
   },
   "outputs": [],
   "source": [
    "for name, group in df.groupby('key1'):\n",
    "    print(name)\n",
    "    print(group)"
   ]
  },
  {
   "cell_type": "markdown",
   "metadata": {},
   "source": [
    "#### 通过字典或者Series进行分组"
   ]
  },
  {
   "cell_type": "code",
   "execution_count": null,
   "metadata": {
    "collapsed": true
   },
   "outputs": [],
   "source": [
    "np.random.seed(666)\n",
    "people = pd.DataFrame(np.random.randn(5,5),\n",
    "                   columns = list('abcde'),\n",
    "                   index = ['Joe','Steve','Wes', 'Jim', 'Travis']\n",
    "                   )\n",
    "people.loc[2:3, ['b', 'c']] = np.NaN #添加2个na值\n",
    "people"
   ]
  },
  {
   "cell_type": "code",
   "execution_count": null,
   "metadata": {
    "collapsed": true
   },
   "outputs": [],
   "source": [
    "mapping = {'a':'red', 'b':'red', 'c':'blue','d':'blue','e':'yellow','f':'orange'}  #f 中对应上述数据不存在\n",
    "by_color = people.groupby(mapping, axis = 1).sum() #axis = 1 根据列进行索引，默认是根据行进行索引\n",
    "by_color.head()"
   ]
  },
  {
   "cell_type": "markdown",
   "metadata": {},
   "source": [
    "#### 通过函数进行分组"
   ]
  },
  {
   "cell_type": "code",
   "execution_count": null,
   "metadata": {
    "collapsed": true
   },
   "outputs": [],
   "source": [
    "name_len = people.groupby(len).sum() #如果sum函数不加括号就会报错\n",
    "name_len"
   ]
  },
  {
   "cell_type": "markdown",
   "metadata": {
    "collapsed": true
   },
   "source": [
    "#### 根据索引级别分组"
   ]
  },
  {
   "cell_type": "code",
   "execution_count": null,
   "metadata": {
    "collapsed": true
   },
   "outputs": [],
   "source": [
    "columns = pd.MultiIndex.from_arrays([['US','US','CHINA','JP','JP'],\n",
    "                                     [1,3,5,1,3]],\n",
    "                                     names = ['city','tenor']\n",
    "                                     )\n",
    "hier_data = pd.DataFrame(np.random.randn(4,5), columns = columns)\n",
    "hier_data"
   ]
  },
  {
   "cell_type": "code",
   "execution_count": null,
   "metadata": {
    "collapsed": true
   },
   "outputs": [],
   "source": [
    "#层次化索引数据集最方便的地方在于它能够根据索引级别进行聚合\n",
    "hier_data.groupby(level = 'city', axis = 1).count()"
   ]
  },
  {
   "cell_type": "markdown",
   "metadata": {
    "collapsed": true
   },
   "source": [
    "### groupby,transform高效汇总数据"
   ]
  },
  {
   "cell_type": "markdown",
   "metadata": {
    "collapsed": true
   },
   "source": [
    "aggregation会返回数据的缩减版本，而transformation能返回完整数据的某一变换版本供我们重组。  \n",
    "这样的transformation，输出的形状和输入一致。  \n",
    "一个常见的例子是通过减去分组平均值来居中数据。  "
   ]
  },
  {
   "cell_type": "code",
   "execution_count": 32,
   "metadata": {},
   "outputs": [
    {
     "data": {
      "text/html": [
       "<div>\n",
       "<style scoped>\n",
       "    .dataframe tbody tr th:only-of-type {\n",
       "        vertical-align: middle;\n",
       "    }\n",
       "\n",
       "    .dataframe tbody tr th {\n",
       "        vertical-align: top;\n",
       "    }\n",
       "\n",
       "    .dataframe thead th {\n",
       "        text-align: right;\n",
       "    }\n",
       "</style>\n",
       "<table border=\"1\" class=\"dataframe\">\n",
       "  <thead>\n",
       "    <tr style=\"text-align: right;\">\n",
       "      <th></th>\n",
       "      <th>account</th>\n",
       "      <th>name</th>\n",
       "      <th>order</th>\n",
       "      <th>sku</th>\n",
       "      <th>quantity</th>\n",
       "      <th>unit price</th>\n",
       "      <th>ext price</th>\n",
       "    </tr>\n",
       "  </thead>\n",
       "  <tbody>\n",
       "    <tr>\n",
       "      <th>0</th>\n",
       "      <td>383080</td>\n",
       "      <td>Will LLC</td>\n",
       "      <td>10001</td>\n",
       "      <td>B1-20000</td>\n",
       "      <td>7</td>\n",
       "      <td>33.69</td>\n",
       "      <td>235.83</td>\n",
       "    </tr>\n",
       "    <tr>\n",
       "      <th>1</th>\n",
       "      <td>383080</td>\n",
       "      <td>Will LLC</td>\n",
       "      <td>10001</td>\n",
       "      <td>S1-27722</td>\n",
       "      <td>11</td>\n",
       "      <td>21.12</td>\n",
       "      <td>232.32</td>\n",
       "    </tr>\n",
       "    <tr>\n",
       "      <th>2</th>\n",
       "      <td>383080</td>\n",
       "      <td>Will LLC</td>\n",
       "      <td>10001</td>\n",
       "      <td>B1-86481</td>\n",
       "      <td>3</td>\n",
       "      <td>35.99</td>\n",
       "      <td>107.97</td>\n",
       "    </tr>\n",
       "    <tr>\n",
       "      <th>3</th>\n",
       "      <td>412290</td>\n",
       "      <td>Jerde-Hilpert</td>\n",
       "      <td>10005</td>\n",
       "      <td>S1-06532</td>\n",
       "      <td>48</td>\n",
       "      <td>55.82</td>\n",
       "      <td>2679.36</td>\n",
       "    </tr>\n",
       "    <tr>\n",
       "      <th>4</th>\n",
       "      <td>412290</td>\n",
       "      <td>Jerde-Hilpert</td>\n",
       "      <td>10005</td>\n",
       "      <td>S1-82801</td>\n",
       "      <td>21</td>\n",
       "      <td>13.62</td>\n",
       "      <td>286.02</td>\n",
       "    </tr>\n",
       "    <tr>\n",
       "      <th>5</th>\n",
       "      <td>412290</td>\n",
       "      <td>Jerde-Hilpert</td>\n",
       "      <td>10005</td>\n",
       "      <td>S1-06532</td>\n",
       "      <td>9</td>\n",
       "      <td>92.55</td>\n",
       "      <td>832.95</td>\n",
       "    </tr>\n",
       "    <tr>\n",
       "      <th>6</th>\n",
       "      <td>412290</td>\n",
       "      <td>Jerde-Hilpert</td>\n",
       "      <td>10005</td>\n",
       "      <td>S1-47412</td>\n",
       "      <td>44</td>\n",
       "      <td>78.91</td>\n",
       "      <td>3472.04</td>\n",
       "    </tr>\n",
       "    <tr>\n",
       "      <th>7</th>\n",
       "      <td>412290</td>\n",
       "      <td>Jerde-Hilpert</td>\n",
       "      <td>10005</td>\n",
       "      <td>S1-27722</td>\n",
       "      <td>36</td>\n",
       "      <td>25.42</td>\n",
       "      <td>915.12</td>\n",
       "    </tr>\n",
       "    <tr>\n",
       "      <th>8</th>\n",
       "      <td>218895</td>\n",
       "      <td>Kulas Inc</td>\n",
       "      <td>10006</td>\n",
       "      <td>S1-27722</td>\n",
       "      <td>32</td>\n",
       "      <td>95.66</td>\n",
       "      <td>3061.12</td>\n",
       "    </tr>\n",
       "    <tr>\n",
       "      <th>9</th>\n",
       "      <td>218895</td>\n",
       "      <td>Kulas Inc</td>\n",
       "      <td>10006</td>\n",
       "      <td>B1-33087</td>\n",
       "      <td>23</td>\n",
       "      <td>22.55</td>\n",
       "      <td>518.65</td>\n",
       "    </tr>\n",
       "    <tr>\n",
       "      <th>10</th>\n",
       "      <td>218895</td>\n",
       "      <td>Kulas Inc</td>\n",
       "      <td>10006</td>\n",
       "      <td>B1-33364</td>\n",
       "      <td>3</td>\n",
       "      <td>72.30</td>\n",
       "      <td>216.90</td>\n",
       "    </tr>\n",
       "    <tr>\n",
       "      <th>11</th>\n",
       "      <td>218895</td>\n",
       "      <td>Kulas Inc</td>\n",
       "      <td>10006</td>\n",
       "      <td>B1-20000</td>\n",
       "      <td>-1</td>\n",
       "      <td>72.18</td>\n",
       "      <td>-72.18</td>\n",
       "    </tr>\n",
       "  </tbody>\n",
       "</table>\n",
       "</div>"
      ],
      "text/plain": [
       "    account           name  order       sku  quantity  unit price  ext price\n",
       "0    383080       Will LLC  10001  B1-20000         7       33.69     235.83\n",
       "1    383080       Will LLC  10001  S1-27722        11       21.12     232.32\n",
       "2    383080       Will LLC  10001  B1-86481         3       35.99     107.97\n",
       "3    412290  Jerde-Hilpert  10005  S1-06532        48       55.82    2679.36\n",
       "4    412290  Jerde-Hilpert  10005  S1-82801        21       13.62     286.02\n",
       "5    412290  Jerde-Hilpert  10005  S1-06532         9       92.55     832.95\n",
       "6    412290  Jerde-Hilpert  10005  S1-47412        44       78.91    3472.04\n",
       "7    412290  Jerde-Hilpert  10005  S1-27722        36       25.42     915.12\n",
       "8    218895      Kulas Inc  10006  S1-27722        32       95.66    3061.12\n",
       "9    218895      Kulas Inc  10006  B1-33087        23       22.55     518.65\n",
       "10   218895      Kulas Inc  10006  B1-33364         3       72.30     216.90\n",
       "11   218895      Kulas Inc  10006  B1-20000        -1       72.18     -72.18"
      ]
     },
     "execution_count": 32,
     "metadata": {},
     "output_type": "execute_result"
    }
   ],
   "source": [
    "data = {\n",
    "    'account' : [383080,383080,383080,412290,412290,412290,412290,412290,218895,218895,218895,218895],\n",
    "       'name': ['Will LLC','Will LLC','Will LLC', 'Jerde-Hilpert', 'Jerde-Hilpert','Jerde-Hilpert','Jerde-Hilpert',\n",
    "                'Jerde-Hilpert','Kulas Inc', 'Kulas Inc', 'Kulas Inc', 'Kulas Inc'],\n",
    "'order': [10001,10001,10001,10005,10005,10005,10005,10005,10006,10006,10006,10006,],\n",
    "    'sku': ['B1-20000','S1-27722','B1-86481','S1-06532','S1-82801','S1-06532','S1-47412','S1-27722','S1-27722',\n",
    "            'B1-33087','B1-33364','B1-20000'],\n",
    "    'quantity': [7,11,3,48,21,9,44,36,32,23,3,-1],\n",
    "    'unit price':[33.69,21.12,35.99,55.82,13.62,92.55,78.91,25.42,95.66,22.55,72.3,72.18],\n",
    "    'ext price': [235.83,232.32,107.97,2679.36,286.02,832.95,3472.04,915.12,3061.12,518.65,216.9,-72.18]\n",
    "    }\n",
    "df = pd.DataFrame(data)\n",
    "df"
   ]
  },
  {
   "cell_type": "markdown",
   "metadata": {
    "collapsed": true
   },
   "source": [
    "#### groupby实现形式"
   ]
  },
  {
   "cell_type": "code",
   "execution_count": null,
   "metadata": {},
   "outputs": [],
   "source": [
    "df.groupby('order')['ext price'].sum()"
   ]
  },
  {
   "cell_type": "markdown",
   "metadata": {
    "collapsed": true
   },
   "source": [
    "[groupby图](https://upload-images.jianshu.io/upload_images/2422746-310f1353a2e7882a.png?imageMogr2/auto-orient/strip%7CimageView2/2/w/1000)"
   ]
  },
  {
   "cell_type": "markdown",
   "metadata": {
    "collapsed": true
   },
   "source": [
    "#### 如果想给表格加一列，多一列订单总额，形状要跟原来一样"
   ]
  },
  {
   "cell_type": "code",
   "execution_count": null,
   "metadata": {},
   "outputs": [],
   "source": [
    "df.groupby('order')['ext price'].transform('sum')"
   ]
  },
  {
   "cell_type": "code",
   "execution_count": null,
   "metadata": {},
   "outputs": [],
   "source": [
    "df['total order'] = df.groupby('order')['ext price'].transform('sum')\n",
    "df['percent of order'] = df['ext price'] / df['total order']\n",
    "df"
   ]
  },
  {
   "cell_type": "markdown",
   "metadata": {
    "collapsed": true
   },
   "source": [
    "[transform流程图](https://upload-images.jianshu.io/upload_images/2422746-c25ab9ebb27aef44.png?imageMogr2/auto-orient/strip%7CimageView2/2/w/1000)"
   ]
  },
  {
   "cell_type": "markdown",
   "metadata": {},
   "source": [
    "## zip()函数\n",
    "#### 将对象中对应的元素打包成一个个元组，然后返回由这些元组组成的列表\n",
    "[Python中zip()函数用法举例](https://blog.csdn.net/eric_sunah/article/details/20551087)"
   ]
  },
  {
   "cell_type": "code",
   "execution_count": null,
   "metadata": {},
   "outputs": [],
   "source": [
    "a = [1, 2, 3]\n",
    "b = [4, 5, 6]\n",
    "c = [4, 5, 6, 7, 8]\n",
    "list(zip(a,b)) \n",
    "# print zip后的结果会出现：<zip object at 0x02A9E418>"
   ]
  },
  {
   "cell_type": "markdown",
   "metadata": {},
   "source": [
    "#### 二维矩阵变换（矩阵的行列互换）"
   ]
  },
  {
   "cell_type": "code",
   "execution_count": null,
   "metadata": {},
   "outputs": [],
   "source": [
    "a = [[1, 2, 3], [4, 5, 6], [7, 8, 9]]\n",
    "#通过python列表推导的方法，我们也能轻易完成这个任务\n",
    "[ [row[col] for row in a] for col in range(len(a[0]))]"
   ]
  },
  {
   "cell_type": "code",
   "execution_count": null,
   "metadata": {},
   "outputs": [],
   "source": [
    "#也可以利用zip函数\n",
    "list(zip(*a))"
   ]
  },
  {
   "cell_type": "code",
   "execution_count": null,
   "metadata": {},
   "outputs": [],
   "source": [
    "map(list,zip(*a))"
   ]
  },
  {
   "cell_type": "code",
   "execution_count": null,
   "metadata": {
    "collapsed": true
   },
   "outputs": [],
   "source": []
  },
  {
   "cell_type": "markdown",
   "metadata": {
    "collapsed": true
   },
   "source": [
    "## Python数字加千分符"
   ]
  },
  {
   "cell_type": "code",
   "execution_count": null,
   "metadata": {},
   "outputs": [],
   "source": [
    "format(1234567890,',')"
   ]
  },
  {
   "cell_type": "markdown",
   "metadata": {},
   "source": [
    "### 将数据分组\n",
    "[pandas.cut函数说明](https://blog.csdn.net/Cicome/article/details/79153268)"
   ]
  },
  {
   "cell_type": "markdown",
   "metadata": {},
   "source": [
    "pd.cut(x,bins）  \n",
    "x为nd.array  \n",
    "bins为要分的组  "
   ]
  },
  {
   "cell_type": "markdown",
   "metadata": {
    "collapsed": true
   },
   "source": [
    "## MultiIndex\n",
    "[MultiIndex documentation](https://pandas.pydata.org/pandas-docs/stable/user_guide/advanced.html)"
   ]
  },
  {
   "cell_type": "code",
   "execution_count": null,
   "metadata": {},
   "outputs": [],
   "source": [
    "arrays = [['bar', 'bar', 'baz', 'baz', 'foo', 'foo', 'qux', 'qux'],\n",
    "        ['one', 'two', 'one', 'two', 'one', 'two', 'one', 'two']]\n",
    "tuples = list(zip(*arrays)) \n",
    "tuples\n",
    "#将准备构造的indx两两对齐"
   ]
  },
  {
   "cell_type": "code",
   "execution_count": 35,
   "metadata": {},
   "outputs": [
    {
     "name": "stdout",
     "output_type": "stream",
     "text": [
      "<class 'numpy.ndarray'>\n"
     ]
    },
    {
     "data": {
      "text/html": [
       "<div>\n",
       "<style scoped>\n",
       "    .dataframe tbody tr th:only-of-type {\n",
       "        vertical-align: middle;\n",
       "    }\n",
       "\n",
       "    .dataframe tbody tr th {\n",
       "        vertical-align: top;\n",
       "    }\n",
       "\n",
       "    .dataframe thead tr th {\n",
       "        text-align: left;\n",
       "    }\n",
       "\n",
       "    .dataframe thead tr:last-of-type th {\n",
       "        text-align: right;\n",
       "    }\n",
       "</style>\n",
       "<table border=\"1\" class=\"dataframe\">\n",
       "  <thead>\n",
       "    <tr>\n",
       "      <th></th>\n",
       "      <th colspan=\"2\" halign=\"left\">value</th>\n",
       "    </tr>\n",
       "    <tr>\n",
       "      <th>second</th>\n",
       "      <th>one</th>\n",
       "      <th>two</th>\n",
       "    </tr>\n",
       "    <tr>\n",
       "      <th>first</th>\n",
       "      <th></th>\n",
       "      <th></th>\n",
       "    </tr>\n",
       "  </thead>\n",
       "  <tbody>\n",
       "    <tr>\n",
       "      <th>bar</th>\n",
       "      <td>1.058994</td>\n",
       "      <td>1.586311</td>\n",
       "    </tr>\n",
       "    <tr>\n",
       "      <th>baz</th>\n",
       "      <td>-0.317954</td>\n",
       "      <td>1.592656</td>\n",
       "    </tr>\n",
       "    <tr>\n",
       "      <th>foo</th>\n",
       "      <td>-0.586506</td>\n",
       "      <td>0.073676</td>\n",
       "    </tr>\n",
       "    <tr>\n",
       "      <th>qux</th>\n",
       "      <td>0.433875</td>\n",
       "      <td>1.408746</td>\n",
       "    </tr>\n",
       "  </tbody>\n",
       "</table>\n",
       "</div>"
      ],
      "text/plain": [
       "           value          \n",
       "second       one       two\n",
       "first                     \n",
       "bar     1.058994  1.586311\n",
       "baz    -0.317954  1.592656\n",
       "foo    -0.586506  0.073676\n",
       "qux     0.433875  1.408746"
      ]
     },
     "execution_count": 35,
     "metadata": {},
     "output_type": "execute_result"
    }
   ],
   "source": [
    "index = pd.MultiIndex.from_tuples(tuples, names = ['first', 'second'])\n",
    "a = np.random.randn(8)\n",
    "print(type(a))\n",
    "s = pd.DataFrame(a, index = index, columns = ['value']) #注意！！！ 加入的值a必须是ndarray\n",
    "s"
   ]
  },
  {
   "cell_type": "code",
   "execution_count": 36,
   "metadata": {},
   "outputs": [
    {
     "data": {
      "text/html": [
       "<div>\n",
       "<style scoped>\n",
       "    .dataframe tbody tr th:only-of-type {\n",
       "        vertical-align: middle;\n",
       "    }\n",
       "\n",
       "    .dataframe tbody tr th {\n",
       "        vertical-align: top;\n",
       "    }\n",
       "\n",
       "    .dataframe thead tr th {\n",
       "        text-align: left;\n",
       "    }\n",
       "\n",
       "    .dataframe thead tr:last-of-type th {\n",
       "        text-align: right;\n",
       "    }\n",
       "</style>\n",
       "<table border=\"1\" class=\"dataframe\">\n",
       "  <thead>\n",
       "    <tr>\n",
       "      <th></th>\n",
       "      <th colspan=\"2\" halign=\"left\">value</th>\n",
       "    </tr>\n",
       "    <tr>\n",
       "      <th>second</th>\n",
       "      <th>one</th>\n",
       "      <th>two</th>\n",
       "    </tr>\n",
       "    <tr>\n",
       "      <th>first</th>\n",
       "      <th></th>\n",
       "      <th></th>\n",
       "    </tr>\n",
       "  </thead>\n",
       "  <tbody>\n",
       "    <tr>\n",
       "      <th>bar</th>\n",
       "      <td>1.058994</td>\n",
       "      <td>1.586311</td>\n",
       "    </tr>\n",
       "    <tr>\n",
       "      <th>baz</th>\n",
       "      <td>-0.317954</td>\n",
       "      <td>1.592656</td>\n",
       "    </tr>\n",
       "    <tr>\n",
       "      <th>foo</th>\n",
       "      <td>-0.586506</td>\n",
       "      <td>0.073676</td>\n",
       "    </tr>\n",
       "    <tr>\n",
       "      <th>qux</th>\n",
       "      <td>0.433875</td>\n",
       "      <td>1.408746</td>\n",
       "    </tr>\n",
       "  </tbody>\n",
       "</table>\n",
       "</div>"
      ],
      "text/plain": [
       "           value          \n",
       "second       one       two\n",
       "first                     \n",
       "bar     1.058994  1.586311\n",
       "baz    -0.317954  1.592656\n",
       "foo    -0.586506  0.073676\n",
       "qux     0.433875  1.408746"
      ]
     },
     "execution_count": 36,
     "metadata": {},
     "output_type": "execute_result"
    }
   ],
   "source": [
    "s.unstack()"
   ]
  },
  {
   "cell_type": "code",
   "execution_count": null,
   "metadata": {
    "collapsed": true
   },
   "outputs": [],
   "source": [
    "#As a convenience, you can pass a list of arrays directly into Series or DataFrame \n",
    "#to construct a MultiIndex automatically"
   ]
  },
  {
   "cell_type": "code",
   "execution_count": 37,
   "metadata": {},
   "outputs": [
    {
     "data": {
      "text/plain": [
       "bar  one    1.210922\n",
       "     two    1.092599\n",
       "baz  one   -0.099336\n",
       "     two   -0.472709\n",
       "foo  one    0.256324\n",
       "     two    0.734386\n",
       "qux  one   -1.540366\n",
       "     two    0.728223\n",
       "dtype: float64"
      ]
     },
     "execution_count": 37,
     "metadata": {},
     "output_type": "execute_result"
    }
   ],
   "source": [
    "arrays = [np.array(['bar', 'bar', 'baz', 'baz', 'foo', 'foo', 'qux', 'qux']),\n",
    "         np.array(['one', 'two', 'one', 'two', 'one', 'two', 'one', 'two'])]\n",
    "s = pd.Series(np.random.randn(8), index=arrays)\n",
    "s"
   ]
  },
  {
   "cell_type": "code",
   "execution_count": null,
   "metadata": {
    "collapsed": true
   },
   "outputs": [],
   "source": []
  },
  {
   "cell_type": "code",
   "execution_count": null,
   "metadata": {
    "collapsed": true
   },
   "outputs": [],
   "source": []
  },
  {
   "cell_type": "markdown",
   "metadata": {
    "collapsed": true
   },
   "source": [
    "## 数据类型"
   ]
  },
  {
   "cell_type": "markdown",
   "metadata": {},
   "source": [
    "[参考博文](https://juejin.im/post/5acc36e66fb9a028d043c2a5)"
   ]
  },
  {
   "cell_type": "markdown",
   "metadata": {
    "collapsed": true
   },
   "source": [
    "#### pandas和numpy的数据类型对应"
   ]
  },
  {
   "cell_type": "markdown",
   "metadata": {
    "collapsed": true
   },
   "source": [
    "![pandas和numpy的数据类型对应.png](https://github.com/chordou/markdownPictures/blob/master/pandas%E5%92%8Cnumpy%E6%95%B0%E6%8D%AE%E7%B1%BB%E5%9E%8B%E5%AF%B9%E6%AF%94.png)"
   ]
  },
  {
   "cell_type": "markdown",
   "metadata": {
    "collapsed": true
   },
   "source": [
    "#### type和dtype的区别\n",
    "##### e.g type显示的是series,而dtype显示的是series里面的元素"
   ]
  },
  {
   "cell_type": "markdown",
   "metadata": {
    "collapsed": true
   },
   "source": [
    "![type和dtype的区别.png](https://github.com/chordou/markdownPictures/blob/master/type%E5%92%8Cdtype%E7%9A%84%E5%8C%BA%E5%88%AB.png)"
   ]
  },
  {
   "cell_type": "markdown",
   "metadata": {
    "collapsed": true
   },
   "source": [
    "为了真正修改原始 dataframe 中的客户编号（Customer Number），\n",
    "记得把 astype() 函数的返回值重新赋值给 dataframe，因为 astype() 仅返回数据的副本而不原地修改。"
   ]
  },
  {
   "cell_type": "code",
   "execution_count": null,
   "metadata": {
    "collapsed": true
   },
   "outputs": [],
   "source": [
    "df[\"Customer Number\"] = df['Customer Number'].astype('int')"
   ]
  },
  {
   "cell_type": "code",
   "execution_count": null,
   "metadata": {
    "collapsed": true
   },
   "outputs": [],
   "source": [
    "#如果我们想查看 dataframe 中的所有数据类型，使用 \n",
    "df.dtypes"
   ]
  },
  {
   "cell_type": "markdown",
   "metadata": {
    "collapsed": true
   },
   "source": [
    "### 出现了类型错误： 'float' object has no attribute 'shape'  \n",
    "此时应该看操作的对象是不是object  \n",
    "[参考资料](https://stackoverflow.com/questions/45670487/numpy-cov-exception-float-object-has-no-attribute-shape)"
   ]
  },
  {
   "cell_type": "code",
   "execution_count": null,
   "metadata": {
    "collapsed": true
   },
   "outputs": [],
   "source": []
  },
  {
   "cell_type": "code",
   "execution_count": null,
   "metadata": {
    "collapsed": true
   },
   "outputs": [],
   "source": []
  },
  {
   "cell_type": "code",
   "execution_count": null,
   "metadata": {
    "collapsed": true
   },
   "outputs": [],
   "source": []
  },
  {
   "cell_type": "code",
   "execution_count": null,
   "metadata": {
    "collapsed": true
   },
   "outputs": [],
   "source": []
  },
  {
   "cell_type": "code",
   "execution_count": null,
   "metadata": {
    "collapsed": true
   },
   "outputs": [],
   "source": []
  },
  {
   "cell_type": "code",
   "execution_count": null,
   "metadata": {
    "collapsed": true
   },
   "outputs": [],
   "source": []
  },
  {
   "cell_type": "code",
   "execution_count": null,
   "metadata": {
    "collapsed": true
   },
   "outputs": [],
   "source": []
  },
  {
   "cell_type": "code",
   "execution_count": null,
   "metadata": {
    "collapsed": true
   },
   "outputs": [],
   "source": []
  },
  {
   "cell_type": "code",
   "execution_count": null,
   "metadata": {
    "collapsed": true
   },
   "outputs": [],
   "source": []
  },
  {
   "cell_type": "code",
   "execution_count": null,
   "metadata": {
    "collapsed": true
   },
   "outputs": [],
   "source": []
  },
  {
   "cell_type": "code",
   "execution_count": null,
   "metadata": {
    "collapsed": true
   },
   "outputs": [],
   "source": []
  },
  {
   "cell_type": "code",
   "execution_count": null,
   "metadata": {
    "collapsed": true
   },
   "outputs": [],
   "source": []
  },
  {
   "cell_type": "markdown",
   "metadata": {
    "collapsed": true
   },
   "source": [
    "## jupyter notebook 常用操作"
   ]
  },
  {
   "cell_type": "markdown",
   "metadata": {},
   "source": [
    "#### 快捷键：  \n",
    "H：查看快捷键  \n",
    "Esc：进入命令模式  \n",
    "Enter：进入编辑模式  \n",
    "M：markdown  \n",
    "s：save保存  \n",
    "x：删除  \n",
    "a：above插入  \n",
    "b：below插入  \n",
    "Ctrl+Enter：运行cell  \n",
    "shift+Enter：运行cell并进入下一个cell  \n",
    "Alt+Enter : 运行本单元，在其下插入新单元  \n",
    "X : 剪切选中的单元  \n",
    "C : 复制选中的单元  \n",
    "Shift-V : 粘贴到上方单元  \n",
    "V : 粘贴到下方单元  \n",
    "L：显示行号，在命令模式中的代码单元格按 `L` 打开数字  "
   ]
  },
  {
   "cell_type": "markdown",
   "metadata": {},
   "source": [
    "## 参考链接\n"
   ]
  },
  {
   "cell_type": "markdown",
   "metadata": {},
   "source": [
    "[jupyter code和markdown转换](https://blog.csdn.net/qq_35423500/article/details/79565146)  \n",
    "[jupyter maekdown 语法](http://xianbai.me/learn-md/index.html)  \n",
    "[Pandas将列表（List）转换为数据框（Dataframe）](https://blog.csdn.net/claroja/article/details/64439735)    \n",
    "[pandas获取指定的列和行](https://blog.csdn.net/weixin_38859557/article/details/80977643)  \n",
    "[pandas中根据列的值选取多行数据](https://blog.csdn.net/htbeker/article/details/80332360)  \n",
    "[Pandas删除数据的几种情况](https://www.cnblogs.com/cocowool/p/8421997.html)  \n",
    "[pandas如何去掉、过滤数据集中的某些值或者某些行](https://blog.csdn.net/qq_22238533/article/details/76127966)  \n",
    "[缺失数据处理](https://zhuanlan.zhihu.com/p/42210666)  \n",
    "[pandas 缺失值与空值处理](https://blog.csdn.net/lwgkzl/article/details/80948548)  \n",
    "[Pandas查找缺失值的位置，并返回缺失值行号以及列号](https://blog.csdn.net/u010924297/article/details/80060229)  \n",
    "[如何找到NaN、缺失值或者某些元素的索引名称以及位置，np.where的使用](https://blog.csdn.net/AlanGuoo/article/details/77198503)\n",
    "[pandas获取groupby分组里最大值所在的行](https://blog.csdn.net/Mappy93/article/details/79319506)  \n",
    "[用Python开始的数据分析——分组groupby（1)](https://zhuanlan.zhihu.com/p/29371291)  \n",
    "[写得很清楚！！ Pandas 数据类型概览](https://juejin.im/post/5acc36e66fb9a028d043c2a5)"
   ]
  },
  {
   "cell_type": "code",
   "execution_count": null,
   "metadata": {
    "collapsed": true
   },
   "outputs": [],
   "source": []
  }
 ],
 "metadata": {
  "kernelspec": {
   "display_name": "Python 3",
   "language": "python",
   "name": "python3"
  },
  "language_info": {
   "codemirror_mode": {
    "name": "ipython",
    "version": 3
   },
   "file_extension": ".py",
   "mimetype": "text/x-python",
   "name": "python",
   "nbconvert_exporter": "python",
   "pygments_lexer": "ipython3",
   "version": "3.6.8"
  }
 },
 "nbformat": 4,
 "nbformat_minor": 2
}
